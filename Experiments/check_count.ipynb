{
 "cells": [
  {
   "cell_type": "code",
   "execution_count": 1,
   "metadata": {},
   "outputs": [
    {
     "name": "stdout",
     "output_type": "stream",
     "text": [
      "('chat_id', 'message_id', 'chat_name', 'date', 'text', 'sender_id', 'sender_type', 'sender_first_name', 'sender_last_name', 'sender_username', 'sender_is_verified', 'sender_is_scam', 'sender_is_restricted', 'sender_is_bot', 'sender_is_support', 'reply_to_chat_id', 'reply_to_message_id', 'reply_to_top_message_id', 'forward_chat_id', 'forward_message_id', 'forward_sender_id', 'forward_date', 'reactions', 'views', 'forwards')\n"
     ]
    }
   ],
   "source": [
    "%run query.ipynb"
   ]
  },
  {
   "cell_type": "code",
   "execution_count": 60,
   "metadata": {},
   "outputs": [
    {
     "data": {
      "text/plain": [
       "[(30805,)]"
      ]
     },
     "execution_count": 60,
     "metadata": {},
     "output_type": "execute_result"
    }
   ],
   "source": [
    "conn.close(); list(query(\"SELECT COUNT(*) FROM messages\"))"
   ]
  }
 ],
 "metadata": {
  "kernelspec": {
   "display_name": "Python 3",
   "language": "python",
   "name": "python3"
  },
  "language_info": {
   "codemirror_mode": {
    "name": "ipython",
    "version": 3
   },
   "file_extension": ".py",
   "mimetype": "text/x-python",
   "name": "python",
   "nbconvert_exporter": "python",
   "pygments_lexer": "ipython3",
   "version": "3.11.2"
  }
 },
 "nbformat": 4,
 "nbformat_minor": 2
}
