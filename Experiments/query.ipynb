{
 "cells": [
  {
   "cell_type": "code",
   "execution_count": 26,
   "metadata": {},
   "outputs": [],
   "source": [
    "import mysql.connector\n",
    "from mysql.connector import Error as MySQLError\n",
    "from mysql.connector import connection as MySQLConnection\n",
    "import os\n",
    "import time\n",
    "from typing import List, Dict\n",
    "\n",
    "MYSQL_HOST = \"127.0.0.1\"\n",
    "MYSQL_PORT = 3308\n",
    "MYSQL_USER = os.environ[\"MYSQL_USER\"]\n",
    "MYSQL_PASSWORD = os.environ[\"MYSQL_PASSWORD\"]\n",
    "MYSQL_DATABASE = os.environ[\"MYSQL_DATABASE\"]\n",
    "\n",
    "cur = None\n",
    "conn = None\n",
    "def query(q: str, n: int = None):\n",
    "    global cur\n",
    "    global conn\n",
    "    if cur is not None:\n",
    "        cur.close()\n",
    "    if conn is not None:\n",
    "        conn.close()\n",
    "    conn = mysql.connector.connect(host=MYSQL_HOST,\n",
    "                                database=MYSQL_DATABASE,\n",
    "                                user=MYSQL_USER,\n",
    "                                password=MYSQL_PASSWORD,\n",
    "                                port=MYSQL_PORT,)\n",
    "    if not conn.is_connected():\n",
    "        raise Exception(\"Could not connect\")\n",
    "    cur = conn.cursor()\n",
    "    cur.execute(q)\n",
    "    i = 0\n",
    "    if n is not None:\n",
    "        while i < n:\n",
    "            try:\n",
    "                row = next(cur)\n",
    "                yield row\n",
    "                i += 1\n",
    "            except:\n",
    "                break\n",
    "    else:\n",
    "        for row in cur:\n",
    "            yield row\n",
    "\n",
    "def create_insert_query(d: Dict, table: str):\n",
    "    cols = list(d.keys())\n",
    "    template = \",\".join([\"%s\" for _ in cols])\n",
    "    cols_str = \",\".join(cols)\n",
    "    ordered_vals = tuple([d[x] for x in cols])\n",
    "    return f\"INSERT INTO {table} ({cols_str}) VALUES ({template})\", ordered_vals\n",
    "\n",
    "def insert(d: List[Dict], table: str):\n",
    "    global cur\n",
    "    cur = conn.cursor()\n",
    "    for i in d:\n",
    "        q, v = create_insert_query(i, table)\n",
    "        cur.execute(q, v)\n",
    "    conn.commit()\n",
    "    cur.close()\n",
    "\n",
    "def get_cols(table: str):\n",
    "    return (tuple([x[0] for x in (query(f\"DESCRIBE {table}\"))]))"
   ]
  },
  {
   "cell_type": "code",
   "execution_count": 27,
   "metadata": {},
   "outputs": [],
   "source": [
    "print(get_cols(\"telegram.messages\"))\n",
    "template=\"special message content\"\n",
    "for row in query(f\"\"\"SELECT * FROM messages WHERE text LIKE \"%{template}%\"  \"\"\", 10):\n",
    "    print(row)"
   ]
  },
  {
   "cell_type": "code",
   "execution_count": 39,
   "metadata": {},
   "outputs": [
    {
     "data": {
      "text/plain": [
       "[(29259,)]"
      ]
     },
     "execution_count": 39,
     "metadata": {},
     "output_type": "execute_result"
    }
   ],
   "source": [
    "list(query(\"SELECT COUNT(*) FROM messages\"))"
   ]
  }
 ],
 "metadata": {
  "kernelspec": {
   "display_name": "Python 3",
   "language": "python",
   "name": "python3"
  },
  "language_info": {
   "codemirror_mode": {
    "name": "ipython",
    "version": 3
   },
   "file_extension": ".py",
   "mimetype": "text/x-python",
   "name": "python",
   "nbconvert_exporter": "python",
   "pygments_lexer": "ipython3",
   "version": "3.11.2"
  }
 },
 "nbformat": 4,
 "nbformat_minor": 2
}
