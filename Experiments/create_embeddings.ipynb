{
 "cells": [
  {
   "cell_type": "code",
   "execution_count": null,
   "metadata": {},
   "outputs": [],
   "source": [
    "!pip3 install -r requirements.txt --break-system-packages"
   ]
  },
  {
   "cell_type": "code",
   "execution_count": 1,
   "metadata": {},
   "outputs": [],
   "source": [
    "import sys\n",
    "sys.path.insert(0, \"~/.local/lib/python3.11/site-packages\")"
   ]
  },
  {
   "cell_type": "code",
   "execution_count": 3,
   "metadata": {},
   "outputs": [],
   "source": [
    "from transformers.utils.import_utils import is_nltk_available\n",
    "from sentence_transformers import SentenceTransformer\n",
    "model = SentenceTransformer('all-MiniLM-L6-v2')"
   ]
  },
  {
   "cell_type": "code",
   "execution_count": null,
   "metadata": {},
   "outputs": [],
   "source": [
    "%run mongo_query.ipynb"
   ]
  },
  {
   "cell_type": "code",
   "execution_count": 7,
   "metadata": {},
   "outputs": [],
   "source": [
    "db\n",
    "hebrew_channels = hebrew_channels"
   ]
  },
  {
   "cell_type": "code",
   "execution_count": 18,
   "metadata": {},
   "outputs": [],
   "source": [
    "# find hebrew_channel with most messages\n",
    "hebrew_channel_ids = list(hebrew_channels.keys())\n",
    "cursor = db[\"dialogs\"].find({\"chat.id\": {\"$in\": hebrew_channel_ids}})\n",
    "top_channels = list(cursor)\n",
    "# sort\n",
    "top_channels.sort(key=lambda x: (x[\"top_message\"][\"id\"]), reverse=True)"
   ]
  },
  {
   "cell_type": "code",
   "execution_count": 20,
   "metadata": {},
   "outputs": [
    {
     "name": "stdout",
     "output_type": "stream",
     "text": [
      "[(-1001162298980, 'רוטר - המדליף', 458584), (-1001001310691, 'החדשות החמות', 333006), (-1001411503185, 'כבאות והצלה ארצי', 270974), (-1001199627330, 'חדשות ישראל קודקוד בטלגרם און ליין ערוץ החדשות של ישראל ® 🆃🅴🅻🅴🅶🆁🅰🅼 @news_kodkodgroup', 155612), (-1001307152557, 'חדשות - הקבינט הביטחוני C.B', 141399), (-1001474443960, 'מבזקי רעם - מבזקי חדשות בזמן אמת', 138864), (-1001985312884, 'Israel News 24/7 - חדשות אמת בטלגרם', 126139), (-1001561068037, 'מבזקי ביטחון 24/7 - ביחד ננצח🇮🇱', 118755), (-1001362537850, '🔴חדשות ישראל בטלגרם🔴', 118413), (-1001254976833, 'קול החדשות ב 🆃🅴🅻🅴🅶🆁🅰️🅼🔴', 103289), (-1001134014032, 'הימין הלא מתנצל של הצל', 96038), (-1001268293343, 'גלובס', 93016), (-1001406113886, 'חדשות מהשטח בטלגרם', 91408), (-1001277927787, 'עמאר אסדי - amar assadi news', 79325), (-1001574173609, '301 העולם הערבי', 74569), (-1001282622805, '⚡️🇮🇱חדשות הבזק🇮🇱⚡️', 72184), (-1001337442223, 'אינטליניוז - חרבות ברזל | חדשות המזרח התיכון | Intellinews', 66138), (-1001143765178, 'אבו עלי אקספרס', 65020), (-1001316655551, 'ביטחון שוטף', 61558), (-1001725562716, 'חדשות לפני כולם בטלגרם - ביחד ננצח 🎗', 60595), (-1001645730463, 'דיווחים אנונימוס הרשמי ©️ב- 🆃🅴🅻🅴🅶🆁🅰️🅼', 57692), (-1002111890470, '🎗️חדשות ישראל IL🎗️', 56481), (-1001366521793, 'מבזקי אריה יהודה ✡️', 52299), (-1001561122816, 'יהודים מדווחים - הערוץ הרשמי', 48575), (-1001675223741, 'סוכנות החדשות 🎗', 44935), (-1001271799239, \"המוח'אבראת - חרבות ברזל.\", 44821), (-1001221122299, 'דיווחים בזמן אמת', 43828), (-1001667357802, 'רק נטו חדשות בטלגרם', 42850), (-1001425850587, 'אבו צאלח הדסק הערבי', 42119), (-1001559024378, 'ישראל ימין עכשיו • ISRARL NOW GAZA גל פתוח', 39610), (-1001179641325, 'דפנה ליאל - יחד ננצח', 39308), (-1001158360927, 'עמית סגל', 34253), (-1001446968422, 'ללא צנזורה חדשות ישראל בטלגרם', 33691), (-1001826729900, 'דיווחים מעכשיו בטלגרם: חדשות ועדכונים 24/7- מלחמת חרבות ברזל', 29600), (-1001468698690, 'החצר האחורית', 28994), (-1001369797669, 'חדשות בטחון שדה', 28042), (-1001194785331, 'כאן 11 | דסק ערבים פלסטינים', 27011), (-1001192694517, 'ניוזדסק ישראל', 26098), (-1001480243311, 'ידידיה אפשטיין בטלגרם 🇮🇱', 24683), (-1001936461077, 'חדשות אונליין', 23684), (-1001425128751, '12 פינת 99 - יניר קוזין וירון אברהם', 23458), (-1001203517764, 'כומתה - צבע אדום', 21985), (-1001731396712, \"חדשות תיבת נח🌈Noah's Ark news\", 21903), (-1001845947726, 'בוקי פלילים', 21841), (-1001613161072, 'דניאל עמרם ללא צנזורה', 20916), (-1001436772127, 'צופר - צבע אדום', 20540), (-1001353662238, 'כלכליסט', 20416), (-1001532007223, 'עולם הפשע בטלגרם', 19662), (-1001475338667, 'מיכאל שמש', 18183), (-1001153953290, 'GPLANET 🟧 ד\"ר גיא בכור', 18022), (-1001401013486, '🔸ידיעות בני ברק🔸', 17943), (-1001147703577, '🚨 חדשות ישראל ללא צנזורה 🚨', 17673), (-1001873312329, '🔞🛑מלחמה על הבית🛑🔞', 17408), (-1002116135328, 'כתבי חדשות מצייצים 🎗', 16862), (-1001586914912, 'צבא החדשות', 16526), (-1001496584988, 'הראל פיננסים - חדשות שוק ההון', 16379), (-1001338974728, 'ללא צנזורה 👁️ הערוץ הרשמי', 16135), (-1001547361186, 'Carmel News - חדשות מברית המועצות לשעבר וישראל', 15989), (-1001705806397, 'עדכונים מהארץ והעולם', 14241), (-1001952721314, 'בז news - חדשות צבא וביטחון', 13830), (-1001285011113, \"ארץ הג'יהאד\", 13782), (-1001375169718, 'מסביב לעולם - Around the World', 12773), (-1001534548046, 'הדסק הפוליטי: ליאור קינן וספי עובדיה', 11247), (-1001960770844, 'אלעאלם אלערבי-العالم العربي| ערן מלכא', 10441), (-1001800756721, 'קבינט מדיני ביטחוני - מוריה אסרף & דורון קדוש', 9434), (-1001521365878, 'ללא גבולות ⚠️', 8716), (-1001428757842, 'בן כספית Ben Caspit - הערוץ הרשמי', 8700), (-1001694378577, '🔞❌מחבלים מזווית אחרת❌🔞', 8368), (-1001257096398, 'בורסה 360-מניות הבורסה בת״א', 8053), (-1001414201738, 'חדשות NTD עברית', 7829), (-1001412408381, 'מצנק\"ש הפלג המערבי', 7552), (-1001969876948, 'פוסטה - חדשות פלילים 🔫', 6699), (-1001968016414, 'אסלן - העולם הערבי | ספיר ליפקין', 6611), (-1001848822478, '🔥מרכבות האש🔥 - דיווחים בזמן אמת', 6448), (-1001282192381, 'תשואת יתר - וול סטריט', 6235), (-1002104611375, 'מלחמת לבנון השלישית', 6038), (-1001207026910, 'INTELLITIMES | إنتل تايمز | אינטלי טיימס', 6002), (-1001168948411, 'העין השביעית', 4893), (-1002036605133, 'חדשות הזירה הצפונית לפני כולם בטלגרם', 4323), (-1001944652421, 'אלמוג בוקר עדכונים', 3529), (-1001402297849, 'איילת לאש', 2900), (-1001393353281, 'אפוק - מגזין | חדשות | פרשנויות - Epoch', 2544), (-1001661312362, 'תומר אביטל - עדכוני מחאה', 1786), (-1001654802453, 'בודקים', 1722), (-1001647036111, 'תשואת יתר - תל אביב', 1364), (-1001588534673, \"הפינצטה-השקעות לאנג'לים וכשירים\", 896), (-1001449916340, 'שמעון ברוך-עדכונים מהשטח', 533), (-1002049212292, 'דיווחים ראשוניים ללא צנזורה', 508), (-1002048761188, 'FakeReporter | פייק ריפורטר', 353)]\n"
     ]
    }
   ],
   "source": [
    "top_channels_titles_and_counts = [\n",
    "    (x[\"chat\"][\"id\"], x[\"chat\"][\"title\"], x[\"top_message\"][\"id\"])\n",
    "    for x in top_channels\n",
    "]\n",
    "print(top_channels_titles_and_counts)"
   ]
  },
  {
   "cell_type": "code",
   "execution_count": 23,
   "metadata": {},
   "outputs": [],
   "source": [
    "abuali = -1001143765178"
   ]
  },
  {
   "cell_type": "code",
   "execution_count": 29,
   "metadata": {},
   "outputs": [
    {
     "data": {
      "text/plain": [
       "{'_id': ObjectId('661ca03e2430bc8fb72f0095'),\n",
       " 'id': 64924,\n",
       " 'sender_chat': {'id': -1001143765178,\n",
       "  'type': 'CHANNEL',\n",
       "  'is_verified': False,\n",
       "  'is_restricted': False,\n",
       "  'is_creator': False,\n",
       "  'is_scam': False,\n",
       "  'is_fake': False,\n",
       "  'title': 'אבו עלי אקספרס',\n",
       "  'username': 'abualiexpress',\n",
       "  'photo': {'small_file_id': 'AQADBAADtL4xG_zi0FMAEAIAA0Z3LucW____hWSOK-cuD_8ABB4E',\n",
       "   'small_photo_unique_id': 'AgADtL4xG_zi0FM',\n",
       "   'big_file_id': 'AQADBAADtL4xG_zi0FMAEAMAA0Z3LucW____hWSOK-cuD_8ABB4E',\n",
       "   'big_photo_unique_id': 'AgADtL4xG_zi0FM'},\n",
       "  'dc_id': 4,\n",
       "  'has_protected_content': False},\n",
       " 'date': datetime.datetime(2024, 4, 14, 20, 15, 35),\n",
       " 'chat': {'id': -1001143765178,\n",
       "  'type': 'CHANNEL',\n",
       "  'is_verified': False,\n",
       "  'is_restricted': False,\n",
       "  'is_creator': False,\n",
       "  'is_scam': False,\n",
       "  'is_fake': False,\n",
       "  'title': 'אבו עלי אקספרס',\n",
       "  'username': 'abualiexpress',\n",
       "  'photo': {'small_file_id': 'AQADBAADtL4xG_zi0FMAEAIAA0Z3LucW____hWSOK-cuD_8ABB4E',\n",
       "   'small_photo_unique_id': 'AgADtL4xG_zi0FM',\n",
       "   'big_file_id': 'AQADBAADtL4xG_zi0FMAEAMAA0Z3LucW____hWSOK-cuD_8ABB4E',\n",
       "   'big_photo_unique_id': 'AgADtL4xG_zi0FM'},\n",
       "  'dc_id': 4,\n",
       "  'has_protected_content': False},\n",
       " 'mentioned': False,\n",
       " 'scheduled': False,\n",
       " 'from_scheduled': False,\n",
       " 'media': 'PHOTO',\n",
       " 'media_group_id': 13705005879535724,\n",
       " 'has_protected_content': False,\n",
       " 'has_media_spoiler': False,\n",
       " 'photo': {'file_id': 'AgACAgQAAx0CRCx4ugAC_ZxmHKA9dZyt0NoPf5lbsx8f8ENZBAACIcIxG4PF4FDxiLu2FsUP7gAIAQADAgADeQAHHgQ',\n",
       "  'file_unique_id': 'AgADIcIxG4PF4FA',\n",
       "  'width': 960,\n",
       "  'height': 1280,\n",
       "  'file_size': 206311,\n",
       "  'date': datetime.datetime(2024, 4, 14, 20, 15, 32),\n",
       "  'thumbs': [{'file_id': 'AgACAgQAAx0CRCx4ugAC_ZxmHKA9dZyt0NoPf5lbsx8f8ENZBAACIcIxG4PF4FDxiLu2FsUP7gAIAQADAgADbQAHHgQ',\n",
       "    'file_unique_id': 'AgADIcIxG4PF4FA',\n",
       "    'width': 240,\n",
       "    'height': 320,\n",
       "    'file_size': 25843}]},\n",
       " 'views': 75433,\n",
       " 'forwards': 62,\n",
       " 'outgoing': False}"
      ]
     },
     "execution_count": 29,
     "metadata": {},
     "output_type": "execute_result"
    }
   ],
   "source": [
    "db[\"messages\"].find_one(\n",
    "    {\"chat.id\": abuali},\n",
    "\n",
    ")"
   ]
  },
  {
   "cell_type": "code",
   "execution_count": 41,
   "metadata": {},
   "outputs": [],
   "source": [
    "result = db[\"messages\"].find_one(\n",
    "    {\n",
    "        \"chat.id\": abuali,\n",
    "        \"$or\": [\n",
    "            {\"text\": {\"$ne\": None}},\n",
    "            {\"caption\": {\"$ne\": None}},\n",
    "            {\"poll.question\": {\"$ne\": None}},\n",
    "        ],\n",
    "    },\n",
    "    {\n",
    "        \"from\": \"$chat.id\",\n",
    "        \"date\": 1,\n",
    "        \"text\": {\n",
    "            \"$ifNull\": [\n",
    "                \"$text\",\n",
    "                \"$caption\",\n",
    "                \"$poll.question\",\n",
    "            ]\n",
    "        },\n",
    "        \"responses\": \"$poll.options\",\n",
    "        \"reactions\": \"$reactions.reactions\",\n",
    "    }\n",
    ")"
   ]
  },
  {
   "cell_type": "code",
   "execution_count": null,
   "metadata": {},
   "outputs": [],
   "source": [
    "model.encode(\"hello\")"
   ]
  },
  {
   "cell_type": "code",
   "execution_count": 44,
   "metadata": {},
   "outputs": [
    {
     "data": {
      "text/plain": [
       "{'_id': ObjectId('661ca03e2430bc8fb72f0097'),\n",
       " 'date': datetime.datetime(2024, 4, 14, 20, 15, 34),\n",
       " 'from': -1001143765178,\n",
       " 'text': 'שער ברדנבורג, ברלין, גרמניה: הפגנה שנערכה היום לסולידריות עם ישראל אל מול האיום האיראני. בקהל נכחו גולים כורדים וגולים איראנים התומכים בישראל.\\nמשתתפי ההפגנה קראו גם להשבת החטופים.\\n\\nכדי להגיב לכתבה לחצו כאן',\n",
       " 'reactions': [{'emoji': '❤', 'count': 3604},\n",
       "  {'emoji': '👍', 'count': 390},\n",
       "  {'emoji': '🔥', 'count': 54},\n",
       "  {'emoji': '😁', 'count': 20},\n",
       "  {'emoji': '💔', 'count': 7},\n",
       "  {'emoji': '😱', 'count': 3}]}"
      ]
     },
     "execution_count": 44,
     "metadata": {},
     "output_type": "execute_result"
    }
   ],
   "source": [
    "result"
   ]
  },
  {
   "cell_type": "code",
   "execution_count": 97,
   "metadata": {},
   "outputs": [],
   "source": [
    "pipeline = [\n",
    "    {\n",
    "        \"$match\": {\n",
    "            \"chat.id\": abuali,\n",
    "            \"$or\": [\n",
    "                {\"text\": {\"$ne\": None}},\n",
    "                {\"caption\": {\"$ne\": None}},\n",
    "            ],\n",
    "            \"reply_to_message_id\": None,\n",
    "        }\n",
    "    },\n",
    "    {\n",
    "        \"$project\": {\n",
    "            \"cid\": \"$chat.id\",\n",
    "            \"mid\": \"$id\",\n",
    "            \"text\": 1,\n",
    "            \"caption\": 1,\n",
    "            \"reactions\": 1,\n",
    "            #\"views\": 1,\n",
    "            \"forwards\": 1,\n",
    "        }\n",
    "    },\n",
    "    {\n",
    "        \"$addFields\": {\n",
    "            \"reactions_string\": {\n",
    "                \"$reduce\": {\n",
    "                    \"input\": {\n",
    "                        \"$map\": {\n",
    "                            \"input\": \"$reactions.reactions\",\n",
    "                            \"as\": \"reaction\",\n",
    "                            \"in\": {\n",
    "                                \"$concat\": [\n",
    "                                    \"$$reaction.emoji\",\n",
    "                                    \":\",\n",
    "                                    {\"$toString\": \"$$reaction.count\"},\n",
    "                                    \", \"\n",
    "                                ]\n",
    "                            }\n",
    "                        }\n",
    "                    },\n",
    "                    \"initialValue\": \"\",\n",
    "                    \"in\": {\n",
    "                        \"$concat\": [\"$$value\", \"$$this\"]\n",
    "                    }\n",
    "                }\n",
    "            }\n",
    "        }\n",
    "    },\n",
    "    {\n",
    "        \"$addFields\": {\n",
    "            \"text_with_reactions\": {\n",
    "                \"$concat\": [\n",
    "                    \"<<TEXT>>\",\n",
    "                    {\"$replaceAll\": {\n",
    "                        \"input\": {\"$ifNull\": [\"$text\", \"$caption\"]},\n",
    "                        \"find\": \"\\n\\nכדי להגיב לכתבה לחצו כאן\",\n",
    "                        \"replacement\": \"\",\n",
    "                    }},\n",
    "                    \"<<REACTIONS>>\",\n",
    "                    {\"$rtrim\": {\"input\": \"$reactions_string\", \"chars\": \", \"}},\n",
    "                    \"<<FORWARDS>>\",\n",
    "                    {\"$toString\": \"$forwards\"},\n",
    "                ]\n",
    "            }\n",
    "        }\n",
    "    },\n",
    "    {\n",
    "        \"$project\": {\n",
    "            \"cid\": 1,\n",
    "            \"mid\": 1,\n",
    "            \"text\": \"$text_with_reactions\",\n",
    "        }\n",
    "    },\n",
    "    #{\"$limit\": 100}\n",
    "]\n",
    "\n",
    "results = db[\"messages\"].aggregate(pipeline)\n",
    "\n",
    "for result in results:\n",
    "    cid, mid, text = result[\"cid\"], result[\"mid\"], result[\"text\"]\n",
    "    embed = model.encode(text)\n",
    "    db[\"embeddings_2\"].insert_one({\n",
    "        \"cid\": cid,\n",
    "        \"mid\": mid,\n",
    "        \"text\": text,\n",
    "        \"embedding\": embed.tolist(),\n",
    "    })\n",
    "\n",
    "# FIXME:\n",
    "# this is an intermediate solution\n",
    "# eventually we want:\n",
    "# - a good encoder that we finetuned on this kind of data\n",
    "# - a separate encoder for the sentiment (reactions & forwards)\n",
    "# - and a model to unify them into a single representation\n",
    "# also, there is no date, and this is terrible!\n",
    "# date can be multidimensional because different \"stories\" have different meanings for different dates\n",
    "# how do we fix this?"
   ]
  }
 ],
 "metadata": {
  "kernelspec": {
   "display_name": "Python 3",
   "language": "python",
   "name": "python3"
  },
  "language_info": {
   "codemirror_mode": {
    "name": "ipython",
    "version": 3
   },
   "file_extension": ".py",
   "mimetype": "text/x-python",
   "name": "python",
   "nbconvert_exporter": "python",
   "pygments_lexer": "ipython3",
   "version": "3.11.2"
  }
 },
 "nbformat": 4,
 "nbformat_minor": 2
}
