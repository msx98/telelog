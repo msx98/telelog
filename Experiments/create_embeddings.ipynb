{
 "cells": [
  {
   "cell_type": "code",
   "execution_count": null,
   "metadata": {},
   "outputs": [],
   "source": [
    "!pip3 install -r requirements.txt --break-system-packages"
   ]
  },
  {
   "cell_type": "code",
   "execution_count": 1,
   "metadata": {},
   "outputs": [],
   "source": [
    "import sys\n",
    "sys.path.insert(0, \"~/.local/lib/python3.11/site-packages\")"
   ]
  },
  {
   "cell_type": "code",
   "execution_count": 3,
   "metadata": {},
   "outputs": [],
   "source": [
    "from transformers.utils.import_utils import is_nltk_available\n",
    "from sentence_transformers import SentenceTransformer\n",
    "model = SentenceTransformer('all-MiniLM-L6-v2')"
   ]
  },
  {
   "cell_type": "code",
   "execution_count": null,
   "metadata": {},
   "outputs": [],
   "source": [
    "%run mongo_query.ipynb"
   ]
  },
  {
   "cell_type": "code",
   "execution_count": 7,
   "metadata": {},
   "outputs": [],
   "source": [
    "db\n",
    "hebrew_channels = hebrew_channels"
   ]
  },
  {
   "cell_type": "code",
   "execution_count": 18,
   "metadata": {},
   "outputs": [],
   "source": [
    "# find hebrew_channel with most messages\n",
    "hebrew_channel_ids = list(hebrew_channels.keys())\n",
    "cursor = db[\"dialogs\"].find({\"chat.id\": {\"$in\": hebrew_channel_ids}})\n",
    "top_channels = list(cursor)\n",
    "# sort\n",
    "top_channels.sort(key=lambda x: (x[\"top_message\"][\"id\"]), reverse=True)"
   ]
  },
  {
   "cell_type": "code",
   "execution_count": null,
   "metadata": {},
   "outputs": [],
   "source": [
    "top_channels_titles_and_counts = [\n",
    "    (x[\"chat\"][\"id\"], x[\"chat\"][\"title\"], x[\"top_message\"][\"id\"])\n",
    "    for x in top_channels\n",
    "]\n",
    "print(top_channels_titles_and_counts)"
   ]
  },
  {
   "cell_type": "code",
   "execution_count": 23,
   "metadata": {},
   "outputs": [],
   "source": [
    "abuali = -1001143765178"
   ]
  },
  {
   "cell_type": "code",
   "execution_count": null,
   "metadata": {},
   "outputs": [],
   "source": [
    "db[\"messages\"].find_one(\n",
    "    {\"chat.id\": abuali},\n",
    "\n",
    ")"
   ]
  },
  {
   "cell_type": "code",
   "execution_count": 41,
   "metadata": {},
   "outputs": [],
   "source": [
    "result = db[\"messages\"].find_one(\n",
    "    {\n",
    "        \"chat.id\": abuali,\n",
    "        \"$or\": [\n",
    "            {\"text\": {\"$ne\": None}},\n",
    "            {\"caption\": {\"$ne\": None}},\n",
    "            {\"poll.question\": {\"$ne\": None}},\n",
    "        ],\n",
    "    },\n",
    "    {\n",
    "        \"from\": \"$chat.id\",\n",
    "        \"date\": 1,\n",
    "        \"text\": {\n",
    "            \"$ifNull\": [\n",
    "                \"$text\",\n",
    "                \"$caption\",\n",
    "                \"$poll.question\",\n",
    "            ]\n",
    "        },\n",
    "        \"responses\": \"$poll.options\",\n",
    "        \"reactions\": \"$reactions.reactions\",\n",
    "    }\n",
    ")"
   ]
  },
  {
   "cell_type": "code",
   "execution_count": null,
   "metadata": {},
   "outputs": [],
   "source": [
    "model.encode(\"hello\")"
   ]
  },
  {
   "cell_type": "code",
   "execution_count": null,
   "metadata": {},
   "outputs": [],
   "source": [
    "result"
   ]
  },
  {
   "cell_type": "code",
   "execution_count": 97,
   "metadata": {},
   "outputs": [],
   "source": [
    "pipeline = [\n",
    "    {\n",
    "        \"$match\": {\n",
    "            \"chat.id\": abuali,\n",
    "            \"$or\": [\n",
    "                {\"text\": {\"$ne\": None}},\n",
    "                {\"caption\": {\"$ne\": None}},\n",
    "            ],\n",
    "            \"reply_to_message_id\": None,\n",
    "        }\n",
    "    },\n",
    "    {\n",
    "        \"$project\": {\n",
    "            \"cid\": \"$chat.id\",\n",
    "            \"mid\": \"$id\",\n",
    "            \"text\": 1,\n",
    "            \"caption\": 1,\n",
    "            \"reactions\": 1,\n",
    "            #\"views\": 1,\n",
    "            \"forwards\": 1,\n",
    "        }\n",
    "    },\n",
    "    {\n",
    "        \"$addFields\": {\n",
    "            \"reactions_string\": {\n",
    "                \"$reduce\": {\n",
    "                    \"input\": {\n",
    "                        \"$map\": {\n",
    "                            \"input\": \"$reactions.reactions\",\n",
    "                            \"as\": \"reaction\",\n",
    "                            \"in\": {\n",
    "                                \"$concat\": [\n",
    "                                    \"$$reaction.emoji\",\n",
    "                                    \":\",\n",
    "                                    {\"$toString\": \"$$reaction.count\"},\n",
    "                                    \", \"\n",
    "                                ]\n",
    "                            }\n",
    "                        }\n",
    "                    },\n",
    "                    \"initialValue\": \"\",\n",
    "                    \"in\": {\n",
    "                        \"$concat\": [\"$$value\", \"$$this\"]\n",
    "                    }\n",
    "                }\n",
    "            }\n",
    "        }\n",
    "    },\n",
    "    {\n",
    "        \"$addFields\": {\n",
    "            \"text_with_reactions\": {\n",
    "                \"$concat\": [\n",
    "                    \"<<TEXT>>\",\n",
    "                    {\"$replaceAll\": {\n",
    "                        \"input\": {\"$ifNull\": [\"$text\", \"$caption\"]},\n",
    "                        \"find\": \"\\n\\nכדי להגיב לכתבה לחצו כאן\",\n",
    "                        \"replacement\": \"\",\n",
    "                    }},\n",
    "                    \"<<REACTIONS>>\",\n",
    "                    {\"$rtrim\": {\"input\": \"$reactions_string\", \"chars\": \", \"}},\n",
    "                    \"<<FORWARDS>>\",\n",
    "                    {\"$toString\": \"$forwards\"},\n",
    "                ]\n",
    "            }\n",
    "        }\n",
    "    },\n",
    "    {\n",
    "        \"$project\": {\n",
    "            \"cid\": 1,\n",
    "            \"mid\": 1,\n",
    "            \"text\": \"$text_with_reactions\",\n",
    "        }\n",
    "    },\n",
    "    #{\"$limit\": 100}\n",
    "]\n",
    "\n",
    "results = db[\"messages\"].aggregate(pipeline)\n",
    "\n",
    "for result in results:\n",
    "    cid, mid, text = result[\"cid\"], result[\"mid\"], result[\"text\"]\n",
    "    embed = model.encode(text)\n",
    "    db[\"embeddings_2\"].insert_one({\n",
    "        \"cid\": cid,\n",
    "        \"mid\": mid,\n",
    "        \"text\": text,\n",
    "        \"embedding\": embed.tolist(),\n",
    "    })\n",
    "\n",
    "# FIXME:\n",
    "# this is an intermediate solution\n",
    "# eventually we want:\n",
    "# - a good encoder that we finetuned on this kind of data\n",
    "# - a separate encoder for the sentiment (reactions & forwards)\n",
    "# - and a model to unify them into a single representation\n",
    "# also, there is no date, and this is terrible!\n",
    "# date can be multidimensional because different \"stories\" have different meanings for different dates\n",
    "# how do we fix this?"
   ]
  }
 ],
 "metadata": {
  "kernelspec": {
   "display_name": "Python 3",
   "language": "python",
   "name": "python3"
  },
  "language_info": {
   "codemirror_mode": {
    "name": "ipython",
    "version": 3
   },
   "file_extension": ".py",
   "mimetype": "text/x-python",
   "name": "python",
   "nbconvert_exporter": "python",
   "pygments_lexer": "ipython3",
   "version": "3.11.2"
  }
 },
 "nbformat": 4,
 "nbformat_minor": 2
}
