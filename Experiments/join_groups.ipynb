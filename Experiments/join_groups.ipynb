{
 "cells": [
  {
   "cell_type": "code",
   "execution_count": null,
   "metadata": {},
   "outputs": [],
   "source": [
    "%run query.ipynb"
   ]
  },
  {
   "cell_type": "code",
   "execution_count": 6,
   "metadata": {},
   "outputs": [],
   "source": [
    "from pyrogram import Client, filters\n",
    "from pyrogram.raw.functions.chatlists import get_chatlist_updates\n",
    "from pyrogram.raw.functions.channels.get_channels import GetChannels\n",
    "from pyrogram.enums import ChatType\n",
    "from dotenv import load_dotenv\n",
    "import random\n",
    "import time\n",
    "import os\n",
    "load_dotenv()\n",
    "\n",
    "TELEGRAM_API_ID = os.environ[\"TELEGRAM_API_ID\"]\n",
    "TELEGRAM_API_HASH = os.environ[\"TELEGRAM_API_HASH\"]\n",
    "TELEGRAM_PHONE = os.environ[\"TELEGRAM_PHONE\"]\n",
    "TELEGRAM_PASS = os.environ[\"TELEGRAM_PASS\"]\n",
    "app = Client(\"listener2\", api_id=TELEGRAM_API_ID, api_hash=TELEGRAM_API_HASH, phone_number=TELEGRAM_PHONE, password=TELEGRAM_PASS)\n",
    "client = await app.start()"
   ]
  },
  {
   "cell_type": "code",
   "execution_count": 25,
   "metadata": {},
   "outputs": [],
   "source": [
    "from pyrogram.types import Dialog\n",
    "async def join_channel_discussion_group(d: Dialog):\n",
    "    channel_name, group_name, join_result = d.chat.title, None, None\n",
    "    channel_id = d.chat.id\n",
    "    message_id = d.top_message.id\n",
    "    try: discussion_message = await app.get_discussion_message(channel_id, message_id)\n",
    "    except: discussion_message = None\n",
    "    discussion_group = discussion_message.chat if discussion_message else None\n",
    "    if discussion_group:\n",
    "        group_name = discussion_group.title\n",
    "        group_id = discussion_group.id\n",
    "        try: join_result = await app.join_chat(group_id)\n",
    "        except: join_result = \"SENT\"\n",
    "        if join_result != None and join_result != \"SENT\":\n",
    "            join_result = \"SUCCESS\"\n",
    "    return channel_name, group_name, join_result"
   ]
  },
  {
   "cell_type": "code",
   "execution_count": 8,
   "metadata": {},
   "outputs": [
    {
     "name": "stdout",
     "output_type": "stream",
     "text": [
      "REACHED ELSE\n"
     ]
    }
   ],
   "source": [
    "it = client.get_dialogs()\n",
    "l = []\n",
    "async for row in it:\n",
    "    l.append(row)\n",
    "else:\n",
    "    print(\"REACHED ELSE\")"
   ]
  },
  {
   "cell_type": "code",
   "execution_count": 28,
   "metadata": {},
   "outputs": [
    {
     "name": "stdout",
     "output_type": "stream",
     "text": [
      "Result for \"REDACTED\" status = None\n",
      "Result for \"REDACTED\" status = SUCCESS\n",
      "Result for \"REDACTED\" status = SUCCESS\n",
      "Result for \"REDACTED\" status = None\n",
      "Result for \"REDACTED\" status = SENT\n",
      "Result for \"REDACTED\" status = None\n",
      "Result for \"REDACTED\" status = SUCCESS\n"
     ]
    },
    {
     "name": "stderr",
     "output_type": "stream",
     "text": [
      "[listener2] Waiting for 3 seconds before continuing (required by \"channels.JoinChannel\")\n"
     ]
    },
    {
     "name": "stdout",
     "output_type": "stream",
     "text": [
      "Result for \"REDACTED\" status = SENT\n"
     ]
    },
    {
     "name": "stderr",
     "output_type": "stream",
     "text": [
      "[listener2] Waiting for 4 seconds before continuing (required by \"channels.JoinChannel\")\n"
     ]
    },
    {
     "name": "stdout",
     "output_type": "stream",
     "text": [
      "Result for \"REDACTED\" status = SENT\n"
     ]
    },
    {
     "name": "stderr",
     "output_type": "stream",
     "text": [
      "[listener2] Waiting for 4 seconds before continuing (required by \"channels.JoinChannel\")\n"
     ]
    },
    {
     "name": "stdout",
     "output_type": "stream",
     "text": [
      "Result for \"REDACTED\" status = SUCCESS\n"
     ]
    },
    {
     "name": "stderr",
     "output_type": "stream",
     "text": [
      "[listener2] Waiting for 4 seconds before continuing (required by \"channels.JoinChannel\")\n"
     ]
    },
    {
     "name": "stdout",
     "output_type": "stream",
     "text": [
      "Result for \"REDACTED\" status = SUCCESS\n",
      "Result for \"REDACTED\" status = SUCCESS\n",
      "Result for \"REDACTED\" status = SENT\n",
      "Result for \"REDACTED\" status = None\n",
      "Result for \"REDACTED\" status = SENT\n",
      "Result for \"REDACTED\" status = None\n",
      "Result for \"REDACTED\" status = None\n",
      "Result for \"REDACTED\" status = SENT\n",
      "Result for \"REDACTED\" status = None\n",
      "Result for \"REDACTED\" status = SENT\n",
      "Result for \"REDACTED\" status = SENT\n",
      "Result for \"REDACTED\" status = SUCCESS\n",
      "Result for \"REDACTED\" status = SENT\n",
      "Result for \"REDACTED\" status = SENT\n",
      "Result for \"REDACTED\" status = SENT\n",
      "Result for \"REDACTED\" status = None\n",
      "Result for \"REDACTED\" status = SENT\n",
      "Result for \"REDACTED\" status = SENT\n",
      "Result for \"REDACTED\" status = SENT\n",
      "Result for \"REDACTED\" status = SENT\n",
      "Result for \"REDACTED\" status = SENT\n",
      "Result for \"REDACTED\" status = SENT\n",
      "Result for \"REDACTED\" status = SENT\n",
      "Result for \"REDACTED\" status = None\n",
      "Result for \"REDACTED\" status = None\n",
      "Result for \"REDACTED\" status = None\n",
      "Result for \"REDACTED\" status = None\n",
      "Result for \"REDACTED\" status = SENT\n",
      "Result for \"REDACTED\" status = None\n",
      "Result for \"REDACTED\" status = None\n",
      "Result for \"REDACTED\" status = SENT\n",
      "Result for \"REDACTED\" status = None\n",
      "Result for \"REDACTED\" status = SENT\n",
      "Result for \"REDACTED\" status = SENT\n",
      "Result for \"REDACTED\" status = None\n",
      "Result for \"REDACTED\" status = SENT\n",
      "Result for \"REDACTED\" status = SENT\n",
      "Result for \"REDACTED\" status = SENT\n",
      "Result for \"REDACTED\" status = SENT\n",
      "Result for \"REDACTED\" status = SENT\n",
      "Result for \"REDACTED\" status = SENT\n",
      "Result for \"REDACTED\" status = SENT\n",
      "Result for \"REDACTED\" status = SENT\n",
      "Result for \"REDACTED\" status = SENT\n",
      "Result for \"REDACTED\" status = SENT\n",
      "Result for \"REDACTED\" status = None\n",
      "Result for \"REDACTED\" status = None\n",
      "Result for \"REDACTED\" status = SUCCESS\n",
      "Result for \"REDACTED\" status = None\n",
      "Result for \"REDACTED\" status = SENT\n",
      "Result for \"REDACTED\" status = None\n",
      "Result for \"REDACTED\" status = SENT\n",
      "Result for \"REDACTED\" status = None\n",
      "Result for \"REDACTED\" status = SENT\n",
      "Result for \"REDACTED\" status = None\n",
      "Result for \"REDACTED\" status = SENT\n",
      "Result for \"REDACTED\" status = SENT\n",
      "Result for \"REDACTED\" status = SENT\n",
      "Result for \"REDACTED\" status = None\n",
      "Result for \"REDACTED\" status = SENT\n",
      "Result for \"REDACTED\" status = SENT\n",
      "Result for \"REDACTED\" status = SENT\n",
      "Result for \"REDACTED\" status = None\n",
      "Result for \"REDACTED\" status = None\n",
      "Result for \"REDACTED\" status = SENT\n",
      "Result for \"REDACTED\" status = SENT\n",
      "Result for \"REDACTED\" status = SENT\n",
      "Result for \"REDACTED\" status = None\n",
      "Result for \"REDACTED\" status = SENT\n",
      "Result for \"REDACTED\" status = SENT\n",
      "Result for \"REDACTED\" status = SENT\n",
      "Result for \"REDACTED\" status = None\n",
      "Result for \"REDACTED\" status = SENT\n",
      "Result for \"REDACTED\" status = SENT\n",
      "Result for \"REDACTED\" status = SUCCESS\n",
      "Result for \"REDACTED\" status = None\n",
      "Result for \"REDACTED\" status = None\n",
      "Result for \"REDACTED\" status = None\n",
      "Result for \"REDACTED\" status = None\n",
      "Result for \"REDACTED\" status = None\n",
      "Result for \"REDACTED\" status = SENT\n",
      "Result for \"REDACTED\" status = SENT\n",
      "Result for \"REDACTED\" status = None\n",
      "Result for \"REDACTED\" status = None\n",
      "Result for \"REDACTED\" status = SUCCESS\n",
      "Result for \"REDACTED\" status = SENT\n",
      "Result for \"REDACTED\" status = SENT\n",
      "Result for \"REDACTED\" status = SUCCESS\n",
      "Result for \"REDACTED\" status = None\n",
      "Result for \"REDACTED\" status = None\n",
      "Result for \"REDACTED\" status = SENT\n",
      "Result for \"REDACTED\" status = None\n",
      "Result for \"REDACTED\" status = SENT\n",
      "Result for \"REDACTED\" status = SENT\n",
      "Result for \"REDACTED\" status = None\n",
      "Result for \"REDACTED\" status = SENT\n",
      "Result for \"REDACTED\" status = SENT\n",
      "Result for \"REDACTED\" status = SENT\n",
      "Result for \"REDACTED\" status = None\n",
      "Result for \"REDACTED\" status = None\n",
      "Result for \"REDACTED\" status = None\n",
      "Result for \"REDACTED\" status = None\n",
      "Result for \"REDACTED\" status = None\n",
      "Result for \"REDACTED\" status = None\n",
      "Result for \"REDACTED\" status = SUCCESS\n",
      "Result for \"REDACTED\" status = None\n",
      "Result for \"REDACTED\" status = None\n",
      "Result for \"REDACTED\" status = None\n",
      "Result for \"REDACTED\" status = None\n",
      "Result for \"REDACTED\" status = SENT\n",
      "Result for \"REDACTED\" status = None\n",
      "Result for \"REDACTED\" status = None\n",
      "Result for \"REDACTED\" status = None\n",
      "Result for \"REDACTED\" status = SENT\n",
      "Result for \"REDACTED\" status = None\n",
      "Result for \"REDACTED\" status = SENT\n"
     ]
    }
   ],
   "source": [
    "channels = [x for x in l if x.chat.type == ChatType.CHANNEL]\n",
    "for dialog in channels:\n",
    "    channel_name, group_name, result = await join_channel_discussion_group(dialog)\n",
    "    print(f\"\"\"Result for \"REDACTED\" status = {result}\"\"\")"
   ]
  }
 ],
 "metadata": {
  "kernelspec": {
   "display_name": "Python 3",
   "language": "python",
   "name": "python3"
  },
  "language_info": {
   "codemirror_mode": {
    "name": "ipython",
    "version": 3
   },
   "file_extension": ".py",
   "mimetype": "text/x-python",
   "name": "python",
   "nbconvert_exporter": "python",
   "pygments_lexer": "ipython3",
   "version": "3.11.2"
  }
 },
 "nbformat": 4,
 "nbformat_minor": 2
}
