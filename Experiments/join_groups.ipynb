{
 "cells": [
  {
   "cell_type": "code",
   "execution_count": null,
   "metadata": {},
   "outputs": [],
   "source": [
    "%run query.ipynb"
   ]
  },
  {
   "cell_type": "code",
   "execution_count": 3,
   "metadata": {},
   "outputs": [],
   "source": [
    "from pyrogram import Client, filters\n",
    "from pyrogram.raw.functions.chatlists import get_chatlist_updates\n",
    "from pyrogram.raw.functions.channels.get_channels import GetChannels\n",
    "from pyrogram.enums import ChatType\n",
    "from dotenv import load_dotenv\n",
    "import random\n",
    "import time\n",
    "import os\n",
    "load_dotenv()\n",
    "\n",
    "TELEGRAM_API_ID = os.environ[\"TELEGRAM_API_ID\"]\n",
    "TELEGRAM_API_HASH = os.environ[\"TELEGRAM_API_HASH\"]\n",
    "TELEGRAM_PHONE = os.environ[\"TELEGRAM_PHONE\"]\n",
    "TELEGRAM_PASS = os.environ[\"TELEGRAM_PASS\"]\n",
    "app = Client(\"listener2\", api_id=TELEGRAM_API_ID, api_hash=TELEGRAM_API_HASH, phone_number=TELEGRAM_PHONE, password=TELEGRAM_PASS)\n",
    "client = await app.start()"
   ]
  },
  {
   "cell_type": "code",
   "execution_count": 4,
   "metadata": {},
   "outputs": [],
   "source": [
    "from pyrogram.types import Dialog\n",
    "async def get_channel_discussion_group(d: Dialog):\n",
    "    channel_name, group_name, join_result = d.chat.title, None, None\n",
    "    channel_id = d.chat.id\n",
    "    message_id = d.top_message.id\n",
    "    try: discussion_message = await app.get_discussion_message(channel_id, message_id)\n",
    "    except: discussion_message = None\n",
    "    discussion_group = discussion_message.chat if discussion_message else None\n",
    "    if discussion_group:\n",
    "        group_name = discussion_group.title\n",
    "        group_id = discussion_group.id\n",
    "        return group_id, group_name\n",
    "    return None, None"
   ]
  },
  {
   "cell_type": "code",
   "execution_count": 5,
   "metadata": {},
   "outputs": [],
   "source": [
    "from pyrogram.types import Dialog\n",
    "async def join_channel_discussion_group(d: Dialog):\n",
    "    channel_name = d.chat.title\n",
    "    group_id, group_name = get_channel_discussion_group(d)\n",
    "    join_result = None\n",
    "    if group_id is not None:\n",
    "        try: join_result = await app.join_chat(group_id)\n",
    "        except: join_result = \"SENT\"\n",
    "        if join_result != None and join_result != \"SENT\":\n",
    "            join_result = \"SUCCESS\"\n",
    "    return channel_name, group_name, join_result"
   ]
  },
  {
   "cell_type": "code",
   "execution_count": 6,
   "metadata": {},
   "outputs": [
    {
     "name": "stdout",
     "output_type": "stream",
     "text": [
      "REACHED ELSE\n",
      "151\n"
     ]
    }
   ],
   "source": [
    "it = client.get_dialogs()\n",
    "l = []\n",
    "async for row in it:\n",
    "    l.append(row)\n",
    "else:\n",
    "    print(\"REACHED ELSE\")\n",
    "print(len(l))"
   ]
  },
  {
   "cell_type": "code",
   "execution_count": 28,
   "metadata": {},
   "outputs": [
    {
     "name": "stdout",
     "output_type": "stream",
     "text": [
      "Result for \"REDACTED\" status = None\n",
      "Result for \"REDACTED\" status = SUCCESS\n",
      "Result for \"REDACTED\" status = SUCCESS\n",
      "Result for \"REDACTED\" status = None\n",
      "Result for \"REDACTED\" status = SENT\n",
      "Result for \"REDACTED\" status = None\n",
      "Result for \"REDACTED\" status = SUCCESS\n"
     ]
    },
    {
     "name": "stderr",
     "output_type": "stream",
     "text": [
      "[listener2] Waiting for 3 seconds before continuing (required by \"channels.JoinChannel\")\n"
     ]
    },
    {
     "name": "stdout",
     "output_type": "stream",
     "text": [
      "Result for \"REDACTED\" status = SENT\n"
     ]
    },
    {
     "name": "stderr",
     "output_type": "stream",
     "text": [
      "[listener2] Waiting for 4 seconds before continuing (required by \"channels.JoinChannel\")\n"
     ]
    },
    {
     "name": "stdout",
     "output_type": "stream",
     "text": [
      "Result for \"REDACTED\" status = SENT\n"
     ]
    },
    {
     "name": "stderr",
     "output_type": "stream",
     "text": [
      "[listener2] Waiting for 4 seconds before continuing (required by \"channels.JoinChannel\")\n"
     ]
    },
    {
     "name": "stdout",
     "output_type": "stream",
     "text": [
      "Result for \"REDACTED\" status = SUCCESS\n"
     ]
    },
    {
     "name": "stderr",
     "output_type": "stream",
     "text": [
      "[listener2] Waiting for 4 seconds before continuing (required by \"channels.JoinChannel\")\n"
     ]
    },
    {
     "name": "stdout",
     "output_type": "stream",
     "text": [
      "Result for \"REDACTED\" status = SUCCESS\n",
      "Result for \"REDACTED\" status = SUCCESS\n",
      "Result for \"REDACTED\" status = SENT\n",
      "Result for \"REDACTED\" status = None\n",
      "Result for \"REDACTED\" status = SENT\n",
      "Result for \"REDACTED\" status = None\n",
      "Result for \"REDACTED\" status = None\n",
      "Result for \"REDACTED\" status = SENT\n",
      "Result for \"REDACTED\" status = None\n",
      "Result for \"REDACTED\" status = SENT\n",
      "Result for \"REDACTED\" status = SENT\n",
      "Result for \"REDACTED\" status = SUCCESS\n",
      "Result for \"REDACTED\" status = SENT\n",
      "Result for \"REDACTED\" status = SENT\n",
      "Result for \"REDACTED\" status = SENT\n",
      "Result for \"REDACTED\" status = None\n",
      "Result for \"REDACTED\" status = SENT\n",
      "Result for \"REDACTED\" status = SENT\n",
      "Result for \"REDACTED\" status = SENT\n",
      "Result for \"REDACTED\" status = SENT\n",
      "Result for \"REDACTED\" status = SENT\n",
      "Result for \"REDACTED\" status = SENT\n",
      "Result for \"REDACTED\" status = SENT\n",
      "Result for \"REDACTED\" status = None\n",
      "Result for \"REDACTED\" status = None\n",
      "Result for \"REDACTED\" status = None\n",
      "Result for \"REDACTED\" status = None\n",
      "Result for \"REDACTED\" status = SENT\n",
      "Result for \"REDACTED\" status = None\n",
      "Result for \"REDACTED\" status = None\n",
      "Result for \"REDACTED\" status = SENT\n",
      "Result for \"REDACTED\" status = None\n",
      "Result for \"REDACTED\" status = SENT\n",
      "Result for \"REDACTED\" status = SENT\n",
      "Result for \"REDACTED\" status = None\n",
      "Result for \"REDACTED\" status = SENT\n",
      "Result for \"REDACTED\" status = SENT\n",
      "Result for \"REDACTED\" status = SENT\n",
      "Result for \"REDACTED\" status = SENT\n",
      "Result for \"REDACTED\" status = SENT\n",
      "Result for \"REDACTED\" status = SENT\n",
      "Result for \"REDACTED\" status = SENT\n",
      "Result for \"REDACTED\" status = SENT\n",
      "Result for \"REDACTED\" status = SENT\n",
      "Result for \"REDACTED\" status = SENT\n",
      "Result for \"REDACTED\" status = None\n",
      "Result for \"REDACTED\" status = None\n",
      "Result for \"REDACTED\" status = SUCCESS\n",
      "Result for \"REDACTED\" status = None\n",
      "Result for \"REDACTED\" status = SENT\n",
      "Result for \"REDACTED\" status = None\n",
      "Result for \"REDACTED\" status = SENT\n",
      "Result for \"REDACTED\" status = None\n",
      "Result for \"REDACTED\" status = SENT\n",
      "Result for \"REDACTED\" status = None\n",
      "Result for \"REDACTED\" status = SENT\n",
      "Result for \"REDACTED\" status = SENT\n",
      "Result for \"REDACTED\" status = SENT\n",
      "Result for \"REDACTED\" status = None\n",
      "Result for \"REDACTED\" status = SENT\n",
      "Result for \"REDACTED\" status = SENT\n",
      "Result for \"REDACTED\" status = SENT\n",
      "Result for \"REDACTED\" status = None\n",
      "Result for \"REDACTED\" status = None\n",
      "Result for \"REDACTED\" status = SENT\n",
      "Result for \"REDACTED\" status = SENT\n",
      "Result for \"REDACTED\" status = SENT\n",
      "Result for \"REDACTED\" status = None\n",
      "Result for \"REDACTED\" status = SENT\n",
      "Result for \"REDACTED\" status = SENT\n",
      "Result for \"REDACTED\" status = SENT\n",
      "Result for \"REDACTED\" status = None\n",
      "Result for \"REDACTED\" status = SENT\n",
      "Result for \"REDACTED\" status = SENT\n",
      "Result for \"REDACTED\" status = SUCCESS\n",
      "Result for \"REDACTED\" status = None\n",
      "Result for \"REDACTED\" status = None\n",
      "Result for \"REDACTED\" status = None\n",
      "Result for \"REDACTED\" status = None\n",
      "Result for \"REDACTED\" status = None\n",
      "Result for \"REDACTED\" status = SENT\n",
      "Result for \"REDACTED\" status = SENT\n",
      "Result for \"REDACTED\" status = None\n",
      "Result for \"REDACTED\" status = None\n",
      "Result for \"REDACTED\" status = SUCCESS\n",
      "Result for \"REDACTED\" status = SENT\n",
      "Result for \"REDACTED\" status = SENT\n",
      "Result for \"REDACTED\" status = SUCCESS\n",
      "Result for \"REDACTED\" status = None\n",
      "Result for \"REDACTED\" status = None\n",
      "Result for \"REDACTED\" status = SENT\n",
      "Result for \"REDACTED\" status = None\n",
      "Result for \"REDACTED\" status = SENT\n",
      "Result for \"REDACTED\" status = SENT\n",
      "Result for \"REDACTED\" status = None\n",
      "Result for \"REDACTED\" status = SENT\n",
      "Result for \"REDACTED\" status = SENT\n",
      "Result for \"REDACTED\" status = SENT\n",
      "Result for \"REDACTED\" status = None\n",
      "Result for \"REDACTED\" status = None\n",
      "Result for \"REDACTED\" status = None\n",
      "Result for \"REDACTED\" status = None\n",
      "Result for \"REDACTED\" status = None\n",
      "Result for \"REDACTED\" status = None\n",
      "Result for \"REDACTED\" status = SUCCESS\n",
      "Result for \"REDACTED\" status = None\n",
      "Result for \"REDACTED\" status = None\n",
      "Result for \"REDACTED\" status = None\n",
      "Result for \"REDACTED\" status = None\n",
      "Result for \"REDACTED\" status = SENT\n",
      "Result for \"REDACTED\" status = None\n",
      "Result for \"REDACTED\" status = None\n",
      "Result for \"REDACTED\" status = None\n",
      "Result for \"REDACTED\" status = SENT\n",
      "Result for \"REDACTED\" status = None\n",
      "Result for \"REDACTED\" status = SENT\n"
     ]
    }
   ],
   "source": [
    "channels = [x for x in l if x.chat.type == ChatType.CHANNEL]\n",
    "for dialog in channels:\n",
    "    channel_name, group_name, result = await join_channel_discussion_group(dialog)\n",
    "    print(f\"\"\"Result for \"{channel_name}\": group_name is \"{group_name}\" status = {result}\"\"\")"
   ]
  },
  {
   "cell_type": "code",
   "execution_count": 7,
   "metadata": {},
   "outputs": [],
   "source": [
    "channels = [x for x in l if x.chat.type == ChatType.CHANNEL]\n",
    "channel_group = dict()\n",
    "group_channel = dict()\n",
    "for dialog in channels:\n",
    "    group_id, group_name = await get_channel_discussion_group(dialog)\n",
    "    channel_group[dialog.chat.id] = group_id\n",
    "    if group_id is not None:\n",
    "        group_channel[group_id] = dialog.chat.id"
   ]
  },
  {
   "cell_type": "code",
   "execution_count": 42,
   "metadata": {},
   "outputs": [],
   "source": [
    "\"\"\"\n",
    "CREATE TABLE IF NOT EXISTS chats (\n",
    "    id BIGINT NOT NULL,\n",
    "    type TINYINT NOT NULL,\n",
    "    first_name TEXT CHARACTER SET utf8mb4,\n",
    "    last_name TEXT CHARACTER SET utf8mb4,\n",
    "    username TEXT,\n",
    "    is_verified BOOLEAN,\n",
    "    is_scam BOOLEAN,\n",
    "    is_restricted BOOLEAN,\n",
    "    is_bot BOOLEAN,\n",
    "    is_support BOOLEAN,\n",
    "    members_count INTEGER,\n",
    "    group_id BIGINT,\n",
    "    channel_id BIGINT,\n",
    "    PRIMARY KEY (id)\n",
    ");\n",
    "\"\"\"\n",
    "\n",
    "# add group_id, channel_id to chats table\n",
    "# alter table chats add column group_id BIGINT;\n",
    "# x1=list(query(\"ALTER TABLE chats ADD COLUMN group_id BIGINT;\"))\n",
    "# x2=list(query(\"ALTER TABLE chats ADD COLUMN channel_id BIGINT;\"))\n",
    "# list(query(\"ALTER TABLE chats ADD COLUMN title TEXT CHARACTER SET utf8mb4\"))"
   ]
  },
  {
   "cell_type": "code",
   "execution_count": 8,
   "metadata": {},
   "outputs": [],
   "source": [
    "chat_cols = (list(get_cols(\"chats\")))"
   ]
  },
  {
   "cell_type": "code",
   "execution_count": 10,
   "metadata": {},
   "outputs": [],
   "source": [
    "chat_type_dict = {\n",
    "    ChatType.CHANNEL: 1,\n",
    "    ChatType.GROUP: 2,\n",
    "    ChatType.SUPERGROUP: 3,\n",
    "    ChatType.PRIVATE: 4,\n",
    "    ChatType.BOT: 5,\n",
    "}\n",
    "\n",
    "from pyrogram.types import Chat, Dialog\n",
    "from typing import Dict, Optional\n",
    "def normalize_chat(d: Dialog) -> Dict[str, Optional[str|int]]:\n",
    "    chat: Chat = d.chat\n",
    "    chat_dict = dict()\n",
    "    chat_dict[\"id\"] = chat.id\n",
    "    chat_dict[\"type\"] = chat_type_dict[chat.type]\n",
    "    chat_dict[\"title\"] = chat.title\n",
    "    chat_dict[\"first_name\"] = chat.first_name\n",
    "    chat_dict[\"last_name\"] = chat.last_name\n",
    "    chat_dict[\"username\"] = chat.username\n",
    "    chat_dict[\"is_verified\"] = chat.is_verified\n",
    "    chat_dict[\"is_scam\"] = chat.is_scam or chat.is_fake\n",
    "    chat_dict[\"is_restricted\"] = chat.is_restricted\n",
    "    chat_dict[\"is_bot\"] = getattr(chat, \"is_bot\", False)\n",
    "    chat_dict[\"is_support\"] = chat.is_support\n",
    "    chat_dict[\"members_count\"] = chat.members_count\n",
    "    chat_dict[\"channel_id\"] = group_channel.get(chat.id, None)\n",
    "    chat_dict[\"group_id\"] = channel_group.get(chat.id, None)\n",
    "    assert set(chat_dict.keys()) == set(chat_cols), f\"{set(chat_dict.keys()) - set(chat_cols)} {set(chat_cols) - set(chat_dict.keys())}\"\n",
    "    return chat_dict\n",
    "\n",
    "chat_dicts = []\n",
    "for d in l:\n",
    "    chat_dicts.append(normalize_chat(d))"
   ]
  },
  {
   "cell_type": "code",
   "execution_count": null,
   "metadata": {},
   "outputs": [],
   "source": [
    "insert(chat_dicts, \"messages\")"
   ]
  },
  {
   "cell_type": "code",
   "execution_count": 11,
   "metadata": {},
   "outputs": [
    {
     "data": {
      "text/plain": [
       "[(151,)]"
      ]
     },
     "execution_count": 11,
     "metadata": {},
     "output_type": "execute_result"
    }
   ],
   "source": [
    "list(query(\"SELECT COUNT(*) FROM chats\"))"
   ]
  },
  {
   "cell_type": "code",
   "execution_count": 30,
   "metadata": {},
   "outputs": [
    {
     "data": {
      "text/plain": [
       "<coroutine object Stop.stop at 0x7f4faf6b8040>"
      ]
     },
     "execution_count": 30,
     "metadata": {},
     "output_type": "execute_result"
    }
   ],
   "source": [
    "app.stop()"
   ]
  }
 ],
 "metadata": {
  "kernelspec": {
   "display_name": "Python 3",
   "language": "python",
   "name": "python3"
  },
  "language_info": {
   "codemirror_mode": {
    "name": "ipython",
    "version": 3
   },
   "file_extension": ".py",
   "mimetype": "text/x-python",
   "name": "python",
   "nbconvert_exporter": "python",
   "pygments_lexer": "ipython3",
   "version": "3.11.2"
  }
 },
 "nbformat": 4,
 "nbformat_minor": 2
}
