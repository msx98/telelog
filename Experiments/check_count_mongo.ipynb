{
 "cells": [
  {
   "cell_type": "code",
   "execution_count": 3,
   "metadata": {},
   "outputs": [],
   "source": [
    "from typing import Tuple, Dict, Any, Optional, List\n",
    "from collections import OrderedDict\n",
    "import pyrogram.types\n",
    "from pyrogram.types import Message, User, Chat, MessageReactions, Reaction\n",
    "from pyrogram.enums import ChatType, MessageMediaType\n",
    "import os\n",
    "import pyrogram\n",
    "from pymongo import MongoClient\n",
    "from enum import Enum\n",
    "import datetime\n",
    "import pandas as pd\n",
    "import matplotlib.dates as mdates\n",
    "import matplotlib.pyplot as plt\n",
    "import matplotlib.ticker as ticker\n",
    "NullFormatter = ticker.NullFormatter\n",
    "\n",
    "MONGO_HOST=\"mongodb://127.0.0.1:27017/\"\n",
    "MONGO_INITDB_ROOT_USERNAME=\"root\"\n",
    "MONGO_INITDB_ROOT_PASSWORD=\"example\"\n",
    "MONGO_DATABASE=\"telegram\"\n",
    "\n",
    "conn = MongoClient(MONGO_HOST, username=MONGO_INITDB_ROOT_USERNAME, password=MONGO_INITDB_ROOT_PASSWORD)\n",
    "db = conn[MONGO_DATABASE]\n",
    "messages = db[\"messages\"]"
   ]
  },
  {
   "cell_type": "code",
   "execution_count": 21,
   "metadata": {},
   "outputs": [
    {
     "data": {
      "text/plain": [
       "31552"
      ]
     },
     "execution_count": 21,
     "metadata": {},
     "output_type": "execute_result"
    }
   ],
   "source": [
    "# get some message\n",
    "messages.count_documents({\n",
    "    \"chat.id\": -1001143765178,\n",
    "    \"date\": {\n",
    "        \"$gte\": datetime.datetime(2021, 1, 1),\n",
    "        \"$lt\": datetime.datetime(2024, 1, 2)\n",
    "    }\n",
    "})"
   ]
  },
  {
   "cell_type": "code",
   "execution_count": 25,
   "metadata": {},
   "outputs": [
    {
     "data": {
      "text/plain": [
       "{'_id': ObjectId('661c08cb56eb8eb11ef8d455'),\n",
       " 'date': datetime.datetime(2024, 1, 1, 23, 59, 21)}"
      ]
     },
     "execution_count": 25,
     "metadata": {},
     "output_type": "execute_result"
    }
   ],
   "source": [
    "channels = [\n",
    "    (-1001425940518, \"חדשות בזמן בטלגרם\", 6969),\n",
    "    (-1001221122299, 'דיווחים בזמן אמת', 152960),\n",
    "    (-1001143765178, 'אבו עלי אקספרס', 371460),\n",
    "    (-1001425850587, 'אבו צאלח הדסק הערבי', 108616),\n",
    "    (-1001406113886, 'חדשות מהשטח בטלגרם', 467476),\n",
    "    (-1001613161072, 'דניאל עמרם ללא צנזורה', 373393),\n",
    "    (-1001221122299, 'דיווחים בזמן אמת', 152960),\n",
    "    (-1001474443960, 'מבזקי רעם - מבזקי חדשות בזמן אמת', 116313),\n",
    "]"
   ]
  },
  {
   "cell_type": "code",
   "execution_count": 81,
   "metadata": {},
   "outputs": [
    {
     "data": {
      "image/png": "[encoded data removed]",
      "text/plain": [
       "<Figure size 640x480 with 1 Axes>"
      ]
     },
     "metadata": {},
     "output_type": "display_data"
    }
   ],
   "source": [
    "# Get only the 'date' field from each document\n",
    "cursor = messages.find({\n",
    "    \"chat.id\": -1001143765178,\n",
    "    \"date\": {\n",
    "        \"$gte\": datetime.datetime(2021, 1, 1),\n",
    "        \"$lt\": datetime.datetime(2024, 1, 2)\n",
    "    }\n",
    "}, {\"date\": 1})\n",
    "\n",
    "# Create a DataFrame from the cursor\n",
    "df = pd.DataFrame(list(cursor)).drop(columns='_id')\n",
    "\n",
    "# Ensure the 'date' field is in datetime format\n",
    "df['date'] = pd.to_datetime(df['date'], errors='coerce')\n",
    "\n",
    "# Set the datetime column as the DataFrame's index\n",
    "df.set_index('date', inplace=True)\n",
    "\n",
    "# Resample the data by week and count the number of entries\n",
    "weekly_counts = df.resample('W').size().reset_index(name='cnt')\n",
    "weekly_counts[\"date_str\"] = weekly_counts[\"date\"].dt.strftime('%b %y')\n",
    "weekly_counts[\"tick_label\"] = weekly_counts[\"date_str\"].where(weekly_counts.index % 12 == 0, \"\")\n",
    "# turn this into a list\n",
    "weekly_counts_labels = weekly_counts[\"tick_label\"].tolist()\n",
    "\n",
    "# Plot a line chart of the weekly counts\n",
    "plt.bar(weekly_counts.index, weekly_counts.cnt, width=0.5)\n",
    "plt.xticks(weekly_counts.index, weekly_counts[\"tick_label\"], rotation=45)\n",
    "\n",
    "# Set the x-axis labels to display the first week of each quarter\n",
    "ax = plt.gca()\n",
    "ax.xaxis.set_major_locator(ticker.MultipleLocator(12))\n",
    "#ax.xaxis.set_major_formatter(NullFormatter())\n",
    "ax.xaxis.set_minor_locator(ticker.MultipleLocator(1))\n",
    "#ax.xaxis.set_minor_formatter(NullFormatter())\n",
    "\n",
    "plt.xlim(weekly_counts.index.min(), weekly_counts.index.max())\n",
    "\n",
    "plt.title('Weekly Counts', fontsize=10)\n",
    "plt.xlabel('Date', fontsize=8)\n",
    "plt.ylabel('Count', fontsize=8)\n",
    "\n",
    "plt.tight_layout()\n",
    "plt.show()"
   ]
  },
  {
   "cell_type": "code",
   "execution_count": 63,
   "metadata": {},
   "outputs": [
    {
     "data": {
      "text/html": [
       "<div>\n",
       "<style scoped>\n",
       "    .dataframe tbody tr th:only-of-type {\n",
       "        vertical-align: middle;\n",
       "    }\n",
       "\n",
       "    .dataframe tbody tr th {\n",
       "        vertical-align: top;\n",
       "    }\n",
       "\n",
       "    .dataframe thead th {\n",
       "        text-align: right;\n",
       "    }\n",
       "</style>\n",
       "<table border=\"1\" class=\"dataframe\">\n",
       "  <thead>\n",
       "    <tr style=\"text-align: right;\">\n",
       "      <th></th>\n",
       "      <th>date</th>\n",
       "      <th>cnt</th>\n",
       "      <th>date_str</th>\n",
       "      <th>tick_label</th>\n",
       "    </tr>\n",
       "  </thead>\n",
       "  <tbody>\n",
       "    <tr>\n",
       "      <th>0</th>\n",
       "      <td>2021-01-03</td>\n",
       "      <td>52</td>\n",
       "      <td>Jan 21</td>\n",
       "      <td>Jan 21</td>\n",
       "    </tr>\n",
       "    <tr>\n",
       "      <th>1</th>\n",
       "      <td>2021-01-10</td>\n",
       "      <td>81</td>\n",
       "      <td>Jan 21</td>\n",
       "      <td></td>\n",
       "    </tr>\n",
       "    <tr>\n",
       "      <th>2</th>\n",
       "      <td>2021-01-17</td>\n",
       "      <td>96</td>\n",
       "      <td>Jan 21</td>\n",
       "      <td></td>\n",
       "    </tr>\n",
       "    <tr>\n",
       "      <th>3</th>\n",
       "      <td>2021-01-24</td>\n",
       "      <td>81</td>\n",
       "      <td>Jan 21</td>\n",
       "      <td></td>\n",
       "    </tr>\n",
       "    <tr>\n",
       "      <th>4</th>\n",
       "      <td>2021-01-31</td>\n",
       "      <td>97</td>\n",
       "      <td>Jan 21</td>\n",
       "      <td></td>\n",
       "    </tr>\n",
       "    <tr>\n",
       "      <th>...</th>\n",
       "      <td>...</td>\n",
       "      <td>...</td>\n",
       "      <td>...</td>\n",
       "      <td>...</td>\n",
       "    </tr>\n",
       "    <tr>\n",
       "      <th>153</th>\n",
       "      <td>2023-12-10</td>\n",
       "      <td>538</td>\n",
       "      <td>Dec 23</td>\n",
       "      <td></td>\n",
       "    </tr>\n",
       "    <tr>\n",
       "      <th>154</th>\n",
       "      <td>2023-12-17</td>\n",
       "      <td>589</td>\n",
       "      <td>Dec 23</td>\n",
       "      <td></td>\n",
       "    </tr>\n",
       "    <tr>\n",
       "      <th>155</th>\n",
       "      <td>2023-12-24</td>\n",
       "      <td>560</td>\n",
       "      <td>Dec 23</td>\n",
       "      <td></td>\n",
       "    </tr>\n",
       "    <tr>\n",
       "      <th>156</th>\n",
       "      <td>2023-12-31</td>\n",
       "      <td>541</td>\n",
       "      <td>Dec 23</td>\n",
       "      <td>Dec 23</td>\n",
       "    </tr>\n",
       "    <tr>\n",
       "      <th>157</th>\n",
       "      <td>2024-01-07</td>\n",
       "      <td>71</td>\n",
       "      <td>Jan 24</td>\n",
       "      <td></td>\n",
       "    </tr>\n",
       "  </tbody>\n",
       "</table>\n",
       "<p>158 rows × 4 columns</p>\n",
       "</div>"
      ],
      "text/plain": [
       "          date  cnt date_str tick_label\n",
       "0   2021-01-03   52   Jan 21     Jan 21\n",
       "1   2021-01-10   81   Jan 21           \n",
       "2   2021-01-17   96   Jan 21           \n",
       "3   2021-01-24   81   Jan 21           \n",
       "4   2021-01-31   97   Jan 21           \n",
       "..         ...  ...      ...        ...\n",
       "153 2023-12-10  538   Dec 23           \n",
       "154 2023-12-17  589   Dec 23           \n",
       "155 2023-12-24  560   Dec 23           \n",
       "156 2023-12-31  541   Dec 23     Dec 23\n",
       "157 2024-01-07   71   Jan 24           \n",
       "\n",
       "[158 rows x 4 columns]"
      ]
     },
     "execution_count": 63,
     "metadata": {},
     "output_type": "execute_result"
    }
   ],
   "source": [
    "weekly_counts"
   ]
  },
  {
   "cell_type": "code",
   "execution_count": null,
   "metadata": {},
   "outputs": [],
   "source": [
    "weekly_counts"
   ]
  }
 ],
 "metadata": {
  "kernelspec": {
   "display_name": "Python 3",
   "language": "python",
   "name": "python3"
  },
  "language_info": {
   "codemirror_mode": {
    "name": "ipython",
    "version": 3
   },
   "file_extension": ".py",
   "mimetype": "text/x-python",
   "name": "python",
   "nbconvert_exporter": "python",
   "pygments_lexer": "ipython3",
   "version": "3.11.2"
  }
 },
 "nbformat": 4,
 "nbformat_minor": 2
}
